{
  "cells": [
    {
      "cell_type": "markdown",
      "metadata": {
        "id": "s0wiVS1vSdxj"
      },
      "source": [
        "Modified from https://colab.research.google.com/github/facebookresearch/esm/blob/master/examples/sup_variant_prediction.ipynb"
      ]
    },
    {
      "cell_type": "markdown",
      "metadata": {
        "id": "1bgF1at7Sdxm"
      },
      "source": [
        "<a id='prelims'></a>\n",
        "## Prelims"
      ]
    },
    {
      "cell_type": "markdown",
      "metadata": {
        "id": "5Wmws912Sdxn"
      },
      "source": [
        "If you are using colab, then uncomment and run the cell below.\n",
        "It will pip install the `esm` code, fetch the fasta file and the pre-computed embeddings."
      ]
    },
    {
      "cell_type": "code",
      "execution_count": null,
      "metadata": {
        "id": "97jLs2VISdxn",
        "colab": {
          "base_uri": "https://localhost:8080/"
        },
        "outputId": "fc6c4f38-3173-4f3d-88ff-ab89eb705a90"
      },
      "outputs": [
        {
          "output_type": "stream",
          "name": "stdout",
          "text": [
            "Looking in indexes: https://pypi.org/simple, https://us-python.pkg.dev/colab-wheels/public/simple/\n",
            "Collecting git+https://github.com/facebookresearch/esm.git\n",
            "  Cloning https://github.com/facebookresearch/esm.git to /tmp/pip-req-build-wqjqm33_\n",
            "  Running command git clone -q https://github.com/facebookresearch/esm.git /tmp/pip-req-build-wqjqm33_\n",
            "  Installing build dependencies ... \u001b[?25l\u001b[?25hdone\n",
            "  Getting requirements to build wheel ... \u001b[?25l\u001b[?25hdone\n",
            "    Preparing wheel metadata ... \u001b[?25l\u001b[?25hdone\n",
            "Building wheels for collected packages: fair-esm\n",
            "  Building wheel for fair-esm (PEP 517) ... \u001b[?25l\u001b[?25hdone\n",
            "  Created wheel for fair-esm: filename=fair_esm-0.5.0-py3-none-any.whl size=69640 sha256=a27f4e209d021a3160644716e4aef5e50d97a01af8115c5fcec52987595e0d92\n",
            "  Stored in directory: /tmp/pip-ephem-wheel-cache-i23vqupm/wheels/5c/8e/11/307eca5379b418a9989ef4d24ead655755f2500a577ec95208\n",
            "Successfully built fair-esm\n",
            "Installing collected packages: fair-esm\n",
            "Successfully installed fair-esm-0.5.0\n",
            "  % Total    % Received % Xferd  Average Speed   Time    Time     Time  Current\n",
            "                                 Dload  Upload   Total   Spent    Left  Speed\n",
            "  0     0    0     0    0     0      0      0 --:--:-- --:--:-- --:--:--     0\n",
            "100 23.5M  100 23.5M    0     0  25.1M      0 --:--:-- --:--:-- --:--:-- 25.1M\n",
            "  % Total    % Received % Xferd  Average Speed   Time    Time     Time  Current\n",
            "                                 Dload  Upload   Total   Spent    Left  Speed\n",
            "  0     0    0     0    0     0      0      0 --:--:-- --:--:-- --:--:--     0\n",
            "100 18.8M  100 18.8M    0     0  19.7M      0 --:--:-- --:--:-- --:--:--  251M\n",
            "  % Total    % Received % Xferd  Average Speed   Time    Time     Time  Current\n",
            "                                 Dload  Upload   Total   Spent    Left  Speed\n",
            "100  230k  100  230k    0     0   116k      0  0:00:01  0:00:01 --:--:--  116k\n",
            "  % Total    % Received % Xferd  Average Speed   Time    Time     Time  Current\n",
            "                                 Dload  Upload   Total   Spent    Left  Speed\n",
            "  0     0    0     0    0     0      0      0 --:--:-- --:--:-- --:--:--     0\n",
            "100 1501k  100 1501k    0     0  1667k      0 --:--:-- --:--:-- --:--:-- 1667k\n",
            "/content\n",
            "coala40_reprs\t      prot_bert_embeddings\t   sample_data\n",
            "coala40_reprs.tar.gz  prot_bert_embeddings.tar.gz\n",
            "model.h5\t      reformatted_coala40.fa\n"
          ]
        }
      ],
      "source": [
        "!pip install git+https://github.com/facebookresearch/esm.git\n",
        "\n",
        "!curl -LO https://github.com/tcoard/Deep_Learning_For_Proteins/raw/master/coala40_reprs.tar.gz\n",
        "!tar -xzf coala40_reprs.tar.gz \n",
        "!curl -LO https://github.com/tcoard/Deep_Learning_For_Proteins/raw/master/prot_bert_embeddings.tar.gz\n",
        "!tar -xzf prot_bert_embeddings.tar.gz\n",
        "!curl -LO https://transfer.sh/tq5EsK/model.h5\n",
        "\n",
        "!curl -LO https://github.com/tcoard/Deep_Learning_For_Proteins/raw/master/reformatted_coala40.fa\n",
        "\n",
        "!pwd\n",
        "!ls"
      ]
    },
    {
      "cell_type": "markdown",
      "metadata": {
        "id": "ADZdfFxK5qKT"
      },
      "source": [
        "The embeddings were generated with:\n",
        "\n",
        "```python esm/extract.py esm1_t34_670M_UR50S reformatted_coala40.fa coala40_reprs/ --repr_layers 34 --include mean```"
      ]
    },
    {
      "cell_type": "markdown",
      "metadata": {
        "id": "LBLSBcp0yA-A"
      },
      "source": [
        "## Import Statements"
      ]
    },
    {
      "cell_type": "code",
      "execution_count": null,
      "metadata": {
        "id": "IyJiRBTEyAD0"
      },
      "outputs": [],
      "source": [
        "import random\n",
        "import torch\n",
        "import matplotlib.pyplot as plt\n",
        "import numpy as np\n",
        "import pandas as pd\n",
        "import seaborn as sns\n",
        "import esm\n",
        "import scipy\n",
        "\n",
        "from collections import Counter\n",
        "from tqdm import tqdm\n",
        "from tensorflow.keras import models, layers, regularizers, optimizers\n",
        "from sklearn.model_selection import GridSearchCV, train_test_split\n",
        "from sklearn.decomposition import PCA\n",
        "from sklearn.manifold import TSNE\n",
        "from sklearn.neighbors import KNeighborsClassifier \n",
        "from sklearn.svm import SVC, SVR\n",
        "from sklearn.ensemble import RandomForestClassifier\n",
        "from sklearn.naive_bayes import GaussianNB\n",
        "from sklearn.preprocessing import OneHotEncoder\n",
        "from sklearn.metrics import classification_report"
      ]
    },
    {
      "cell_type": "markdown",
      "metadata": {
        "id": "HBQ_T5XhSdxr"
      },
      "source": [
        "## Embedding Configuration\n",
        "COALA Dataset: https://www.biorxiv.org/content/10.1101/2020.04.17.047316v1.abstract\n",
        "\n",
        "ESM (source paper): https://www.pnas.org/doi/10.1073/pnas.2016239118\n",
        "\n",
        "PROTBERT: https://www.biorxiv.org/content/10.1101/2020.07.12.199554v3\n",
        "\n",
        "\n",
        "---\n",
        "\n",
        "\n"
      ]
    },
    {
      "cell_type": "code",
      "execution_count": null,
      "metadata": {
        "cellView": "form",
        "id": "1kkClD3-Sdxs"
      },
      "outputs": [],
      "source": [
        "FASTA_PATH = \"./reformatted_coala40.fa\" #@param\n",
        "EMBEDDING_METHOD = \"ESM\" #@param [\"ESM\", \"PROTBERT\"]\n",
        "if EMBEDDING_METHOD == \"ESM\":\n",
        "    EMB_PATH = \"./coala40_reprs/\"\n",
        "elif EMBEDDING_METHOD == \"PROTBERT\":\n",
        "    EMB_PATH = \"./prot_bert_embeddings\"\n",
        "EMB_LAYER = 34"
      ]
    },
    {
      "cell_type": "markdown",
      "metadata": {
        "id": "reOCNvsdSdxt"
      },
      "source": [
        "<a id='load_embeddings'></a>\n",
        "## Load embeddings (Xs) and target effects (ys)\n",
        "Our FASTA file is formatted as such:\n",
        "```\n",
        ">{index}|{mutation_id}|{effect}\n",
        "{seq}\n",
        "```\n",
        "We will be extracting the effect from each entry.\n",
        "\n",
        "Our embeddings are stored with the file name from fasta header: `{index}|{mutation_id}|{effect}.pt`. \n",
        "For example,"
      ]
    },
    {
      "cell_type": "code",
      "execution_count": null,
      "metadata": {
        "cellView": "form",
        "id": "rVMv1d5NyHbA"
      },
      "outputs": [],
      "source": [
        "#@title What the FASTA Looks like:\n",
        "!cat reformatted_coala40.fa | head -10"
      ]
    },
    {
      "cell_type": "code",
      "execution_count": null,
      "metadata": {
        "id": "-b43bsZPSdxt"
      },
      "outputs": [],
      "source": [
        "AA_LIST = ('X', 'A', 'C', 'D', 'E', 'F', 'G', 'H', 'I', 'K', 'L', 'M', 'N', 'P', \n",
        "           'Q', 'R', 'S', 'T', 'V', 'W', 'Y')\n",
        "# tokenizes a list of sequences into numerical forms (numbers from 0 to 20)\n",
        "def tokenize_sequences(sequences, SeqCol='ISM', seqlen=600):\n",
        "    # limits the length of sequences to a fixed value\n",
        "    def fix_size(x):\n",
        "        if len(x) < seqlen:\n",
        "            return x + 'X'*(seqlen-len(x))\n",
        "        elif len(x) > seqlen:\n",
        "            return x[:seqlen]\n",
        "        else:\n",
        "            return x\n",
        "\n",
        "    # fix length of each sequence, and place them into a numpy array\n",
        "    data = np.vstack([list(fix_size(sequence)) for sequence in sequences])\n",
        "\n",
        "    # tokenize (i.e. assign a numerical value) each amino acid\n",
        "    aa_tokenizer = {AA_LIST[k]:k for k in range(len(AA_LIST))}\n",
        "\n",
        "    # apply this to the entire data\n",
        "    return np.vectorize(aa_tokenizer.get)(data)\n",
        "\n",
        "# ***************************************************\n",
        "labels = [] # the drug resistances\n",
        "sequences = [] # the raw sequences\n",
        "raw_embeddings = [] # the raw (pretrained) embeddings\n",
        "# ***************************************************\n",
        "\n",
        "for header, _seq in esm.data.read_fasta(FASTA_PATH):\n",
        "    sequences.append(_seq)\n",
        "\n",
        "    scaled_effect = header.split('|')[-1]\n",
        "    labels.append(scaled_effect)\n",
        "\n",
        "    # We will load premade embeddings for each protein by their header\n",
        "    embs = torch.load(f'{EMB_PATH}/{header[1:]}.pt')\n",
        "    \n",
        "    if EMBEDDING_METHOD == \"ESM\":\n",
        "        raw_embeddings.append(embs['mean_representations'][EMB_LAYER])\n",
        "    elif EMBEDDING_METHOD == \"PROTBERT\":\n",
        "        raw_embeddings.append(embs)\n",
        "\n",
        "# Reform the list of embeddings into a numpy array of all embeddings\n",
        "# (was a list of tensors previously)\n",
        "embeddings = torch.stack(raw_embeddings, dim=0).numpy()\n",
        "sequence_OH = tokenize_sequences(sequences)"
      ]
    },
    {
      "cell_type": "markdown",
      "metadata": {
        "id": "PjsG0MNpDtNr"
      },
      "source": [
        "# Part 1: End-to-End Model"
      ]
    },
    {
      "cell_type": "code",
      "execution_count": null,
      "metadata": {
        "cellView": "form",
        "id": "DwYFzRw20GPG"
      },
      "outputs": [],
      "source": [
        "#@title Example of Tokenized Sequences\n",
        "print(sequences[0])\n",
        "print(sequence_OH[0])"
      ]
    },
    {
      "cell_type": "code",
      "execution_count": null,
      "metadata": {
        "cellView": "form",
        "id": "mqcQrT6o0bcw"
      },
      "outputs": [],
      "source": [
        "#@title Sequence Length Graph\n",
        "import matplotlib.pyplot as plt\n",
        "\n",
        "# plt.xlim([0, 1800])\n",
        "sequenceLengths = [len(_seq) for _seq in sequences]\n",
        "plt.hist(sequenceLengths, alpha=0.5)\n",
        "plt.title('Sequence Lengths')\n",
        "plt.xlabel('Length')\n",
        "plt.ylabel('count')\n",
        "plt.yscale(\"log\")\n",
        "\n",
        "plt.show()\n",
        "# sequenceLengths"
      ]
    },
    {
      "cell_type": "markdown",
      "metadata": {
        "id": "KEbS1BP1Sdxt"
      },
      "source": [
        "### Train / Test Split\n",
        "\n",
        "The Envision paper this notebook was based on used 80% of the data for training, but it was found that pre-trained ESM embeddings require fewer downstream training data to reach comprable performance."
      ]
    },
    {
      "cell_type": "code",
      "execution_count": null,
      "metadata": {
        "cellView": "form",
        "id": "O9HhgTUKSdxu"
      },
      "outputs": [],
      "source": [
        "#@title Training Parameters\n",
        "train_size = 0.8 #@param {type:\"slider\", min:0, max:1, step:0.05}\n",
        "X_embed_train, X_embed_test, y_train, y_test = train_test_split(embeddings, labels, train_size=train_size, random_state=3351)\n",
        "X_OH_train, X_OH_test, y_train, y_test = train_test_split(sequence_OH, labels, train_size=train_size, random_state=3351)"
      ]
    },
    {
      "cell_type": "markdown",
      "metadata": {
        "id": "uFosl8G79QH4"
      },
      "source": [
        "We'll do some processing on the data to make them more compatable with our networks.\n",
        "\n",
        "OneHotEncoder: https://scikit-learn.org/stable/modules/generated/sklearn.preprocessing.OneHotEncoder.html"
      ]
    },
    {
      "cell_type": "code",
      "execution_count": null,
      "metadata": {
        "id": "G7zYj9kczF3z"
      },
      "outputs": [],
      "source": [
        "labelEncoder = OneHotEncoder()\n",
        "y_train_OH = labelEncoder.fit_transform(\n",
        "    np.array(y_train).reshape(-1, 1)\n",
        ").toarray()\n",
        "\n",
        "drug_index = {\n",
        "    resistance: i\n",
        "    for i, resistance in enumerate(list(labelEncoder.categories_[0]))\n",
        "}\n",
        "\n",
        "y_train_numerical = np.array([drug_index[drug] for drug in y_train])\n",
        "y_test_numerical = np.array([drug_index[drug] for drug in y_test])"
      ]
    },
    {
      "cell_type": "code",
      "source": [
        "#@title One-Hot Encoding (for training)\n",
        "OH = labelEncoder.fit_transform(labelEncoder.categories_[0].reshape(-1, 1)).todense()\n",
        "for row, resistance in zip(OH, labelEncoder.categories_[0]):\n",
        "  print(f\"{resistance:>27}: {row}\")"
      ],
      "metadata": {
        "cellView": "form",
        "id": "hwo10wCjUZbX"
      },
      "execution_count": null,
      "outputs": []
    },
    {
      "cell_type": "code",
      "source": [
        "#@title Numerical Encoding (for direct comparison)\n",
        "for key, value in drug_index.items():\n",
        "  print(f\"{key:>27}: {value}\")"
      ],
      "metadata": {
        "cellView": "form",
        "id": "EFINWZNfV88m"
      },
      "execution_count": null,
      "outputs": []
    },
    {
      "cell_type": "code",
      "execution_count": null,
      "metadata": {
        "cellView": "form",
        "id": "c_geOCqM_nht"
      },
      "outputs": [],
      "source": [
        "#@title Class Distribution\n",
        "labels, counts = np.unique(y_train, return_counts = True)\n",
        "dict(zip(labels, counts))"
      ]
    },
    {
      "cell_type": "markdown",
      "metadata": {
        "id": "w936GvCDHgVd"
      },
      "source": [
        "##Model\n",
        "For the default parameters, it is recommended to run for about 250 epochs. The partially-trained model is 200 epochs in, so 50 more would be advisable. Note that changing the number of dense layer nodes or the activation function will not take effect unless train_from_scratch is checked."
      ]
    },
    {
      "cell_type": "code",
      "execution_count": null,
      "metadata": {
        "id": "x0aPO7fGEvtC",
        "cellView": "form"
      },
      "outputs": [],
      "source": [
        "epochs = 10 #@param {type:\"slider\", min:10, max:200, step:5}\n",
        "train_from_scratch = False #@param {type:\"boolean\"}\n",
        "dense_layer_nodes = 64 #@param {type:\"slider\", min:8, max:128, step:1}\n",
        "activation_function = \"relu\" #@param [\"relu\", \"tanh\", \"sigmoid\"]"
      ]
    },
    {
      "cell_type": "code",
      "execution_count": null,
      "metadata": {
        "id": "gJngt-NvV1Oo"
      },
      "outputs": [],
      "source": [
        "if train_from_scratch:\n",
        "    model = models.Sequential()\n",
        "\n",
        "    # Embedding Layer\n",
        "    emb_layer = layers.Embedding(input_dim=21, output_dim=10)\n",
        "    emb_layer._name = \"embedding_layer\"\n",
        "    model.add(emb_layer)\n",
        "    model.add(layers.Dropout(0.25))\n",
        "\n",
        "    # Convlutional Neural Networks\n",
        "    model.add(\n",
        "        layers.Conv1D(\n",
        "            filters=32,\n",
        "            kernel_size=15,\n",
        "            activation=activation_function,\n",
        "            kernel_regularizer=regularizers.L2(5e-4),\n",
        "            padding=\"same\",\n",
        "            bias_regularizer=regularizers.L2(0.0001),\n",
        "        )\n",
        "    )\n",
        "    model.add(layers.Dropout(0.2))\n",
        "    model.add(layers.MaxPooling1D())\n",
        "\n",
        "    model.add(\n",
        "        layers.Conv1D(\n",
        "            filters=16,\n",
        "            kernel_size=5,\n",
        "            activation=activation_function,\n",
        "            kernel_regularizer=regularizers.L2(8e-4),\n",
        "            padding=\"same\",\n",
        "            bias_regularizer=regularizers.L2(0.0001),\n",
        "        )\n",
        "    )\n",
        "    model.add(layers.Dropout(0.2))\n",
        "    model.add(layers.MaxPooling1D())\n",
        "\n",
        "    model.add(\n",
        "        layers.Conv1D(\n",
        "            filters=8,\n",
        "            kernel_size=3,\n",
        "            activation=activation_function,\n",
        "            kernel_regularizer=regularizers.L2(4e-4),\n",
        "            padding=\"same\",\n",
        "            bias_regularizer=regularizers.L2(0.0001),\n",
        "        )\n",
        "    )\n",
        "    model.add(layers.Dropout(0.2))\n",
        "    model.add(layers.GlobalMaxPooling1D())\n",
        "\n",
        "    # Dense Layers\n",
        "    model.add(\n",
        "        layers.Dense(\n",
        "            units=dense_layer_nodes,\n",
        "            activation=activation_function,\n",
        "            kernel_regularizer=regularizers.L2(0.001),\n",
        "            bias_regularizer=regularizers.L2(0.0001),\n",
        "        )\n",
        "    )\n",
        "    final_dense = layers.Dense(\n",
        "        units=dense_layer_nodes,\n",
        "        activation=activation_function,\n",
        "        kernel_regularizer=regularizers.L2(0.001),\n",
        "        bias_regularizer=regularizers.L2(0.0001),\n",
        "    )\n",
        "    final_dense._name = \"final_dense_layer\"\n",
        "    model.add(final_dense)\n",
        "\n",
        "    # Output Layer\n",
        "    model.add(layers.Dense(units=10, activation=\"softmax\"))\n",
        "\n",
        "    o = optimizers.Adam(learning_rate=5e-3)\n",
        "    model.compile(\n",
        "        optimizer=o,\n",
        "        loss=\"categorical_crossentropy\",\n",
        "        metrics=[\"accuracy\", \"Precision\", \"Recall\"],\n",
        "    )\n",
        "else:\n",
        "    model = models.load_model(\"model.h5\")\n",
        "\n",
        "history = model.fit(\n",
        "    X_OH_train,\n",
        "    y_train_OH,\n",
        "    validation_split=0.2,\n",
        "    epochs=epochs,\n",
        "    batch_size=128,\n",
        "    use_multiprocessing=True,\n",
        "    verbose=1,\n",
        ")"
      ]
    },
    {
      "cell_type": "code",
      "execution_count": null,
      "metadata": {
        "cellView": "form",
        "id": "9YfSKbv9jI73"
      },
      "outputs": [],
      "source": [
        "# @title What Does the Embedding Layer Do?\n",
        "for index, amino_acid in enumerate(AA_LIST):\n",
        "  print(f\"{amino_acid}: {model.get_layer('embedding_layer').get_weights()[0][index]}\")"
      ]
    },
    {
      "cell_type": "code",
      "execution_count": null,
      "metadata": {
        "id": "L5Kc4uyau7wm",
        "cellView": "form"
      },
      "outputs": [],
      "source": [
        "#@title Training Accuracy and Loss\n",
        "# summarize history for accuracy\n",
        "plt.plot(history.history['accuracy'])\n",
        "plt.plot(history.history['val_accuracy'])\n",
        "plt.title('model accuracy')\n",
        "plt.ylabel('accuracy')\n",
        "plt.xlabel('epoch')\n",
        "plt.legend(['train', 'test'], loc='upper left')\n",
        "plt.show()\n",
        "\n",
        "# summarize history for loss\n",
        "plt.plot(history.history['loss'])\n",
        "plt.plot(history.history['val_loss'])\n",
        "plt.title('model loss')\n",
        "plt.ylabel('loss')\n",
        "plt.xlabel('epoch')\n",
        "plt.legend(['train', 'test'], loc='upper left')\n",
        "plt.show()"
      ]
    },
    {
      "cell_type": "code",
      "execution_count": null,
      "metadata": {
        "id": "L7sj3wVp1bLY",
        "cellView": "form"
      },
      "outputs": [],
      "source": [
        "#@title Classification Reports\n",
        "from sklearn.metrics import classification_report\n",
        "values = np.argmax(model.predict(X_OH_test), axis = 1)\n",
        "actual = np.array(y_test_numerical)\n",
        "\n",
        "print(classification_report(y_true = actual, y_pred = values, target_names = drug_index.keys()))"
      ]
    },
    {
      "cell_type": "code",
      "execution_count": null,
      "metadata": {
        "id": "g0bu9dGzrlt8"
      },
      "outputs": [],
      "source": [
        "from keras.models import Model\n",
        "embedding_model = Model(inputs = model.input, \n",
        "             outputs = model.get_layer(\"final_dense_layer\").output)\n",
        "x_emb = embedding_model.predict(X_OH_train)"
      ]
    },
    {
      "cell_type": "code",
      "execution_count": null,
      "metadata": {
        "id": "P9ZPHqvgEJxI",
        "cellView": "form"
      },
      "outputs": [],
      "source": [
        "#@title Graph Embeddings\n",
        "iterations = 250 #@param {type:\"slider\", min:250, max:2000, step:50}\n",
        "tsne = TSNE(init = \"pca\", perplexity = 15, early_exaggeration=20, n_iter = iterations)\n",
        "X_embed_train_tsne = tsne.fit_transform(x_emb)\n",
        "sns.set(rc={\"figure.figsize\": (10, 10)})  \n",
        "palette = sns.color_palette(\"hls\", len(set(y_train)))   \n",
        "sc = sns.scatterplot(X_embed_train_tsne[:,0], X_embed_train_tsne[:,1], hue=y_train ,marker='.', legend=\"full\", s=100, palette=palette)\n",
        "plt.legend(bbox_to_anchor=(1.005, 1.0), loc=2, borderaxespad=0.0)  "
      ]
    },
    {
      "cell_type": "markdown",
      "metadata": {
        "id": "kKMAPwJSDlLr"
      },
      "source": [
        "# Part 2: Pretrained Embeddings"
      ]
    },
    {
      "cell_type": "markdown",
      "metadata": {
        "id": "f1YJqw4eSdxu"
      },
      "source": [
        "### PCA\n",
        "\n",
        "Principal Component Analysis (PCA) is a dimensionality-reduction method that transforms a large set of variables into a smaller one while still containing \n",
        "most of the information in the large set.\n",
        "\n",
        "It does this through a process of computing the principal components and using them to perform a change of basis on the data. \n",
        "\n",
        "Documentation: https://scikit-learn.org/stable/modules/generated/sklearn.decomposition.PCA.html"
      ]
    },
    {
      "cell_type": "code",
      "execution_count": null,
      "metadata": {
        "id": "L-YnemB-Sdxv"
      },
      "outputs": [],
      "source": [
        "pca = PCA(n_components=20)\n",
        "X_embed_train_pca = pca.fit_transform(X_embed_train)\n",
        "X_embed_test_pca = pca.transform(X_embed_test) # for a later step\n",
        "print(X_embed_train.shape)\n",
        "print(X_embed_train_pca.shape)"
      ]
    },
    {
      "cell_type": "markdown",
      "metadata": {
        "id": "xeJEZUR6Sdxv"
      },
      "source": [
        "<a id='viz_embeddings'></a>\n",
        "## Visualize Embeddings\n",
        "\n",
        "Here, we plot the first two principal components on the x- and y- axes. Each point is then colored by its scaled effect (what we want to predict).\n",
        "\n",
        "Visually, we can see a separation based on color/effect, suggesting that our representations are useful for this task, without any task-specific training!"
      ]
    },
    {
      "cell_type": "code",
      "execution_count": null,
      "metadata": {
        "cellView": "form",
        "id": "Rz_mcK9HeN-K"
      },
      "outputs": [],
      "source": [
        "#@title PCA Plot\n",
        "\n",
        "%timeit\n",
        "sns.set(rc={\"figure.figsize\": (10, 10)})  \n",
        "palette = sns.color_palette(\"hls\", len(set(y_train)))   \n",
        "sc = sns.scatterplot(X_embed_train_pca[:,0], X_embed_train_pca[:,1], hue=y_train ,marker='.', legend=\"full\", s=100, palette=palette)\n",
        "plt.legend(bbox_to_anchor=(1.005, 1.0), loc=2, borderaxespad=0.0)  "
      ]
    },
    {
      "cell_type": "markdown",
      "metadata": {
        "id": "i-o1G8oh6idm"
      },
      "source": [
        "### TSNE\n",
        "t-distributed stochastic neighbor embedding (t-SNE) is a dimensionality-reduction method that transforms a large set of variables into a smaller one by modeling each high-dimensional object by a two- or three-dimensional point in such a way that similar objects are modeled by nearby points and dissimilar objects are modeled by distant points with high probability. You can modify the number of iterations that the t-SNE runs with the slider; consider keeping the value below 500 if you are on CPU.\n",
        "\n",
        "Interactive and in depth explanation of t-SNE. https://observablehq.com/@robstelling/t-sne_en\n",
        "\n",
        "Documentation: https://scikit-learn.org/stable/modules/generated/sklearn.manifold.TSNE.html"
      ]
    },
    {
      "cell_type": "code",
      "execution_count": null,
      "metadata": {
        "cellView": "form",
        "id": "D0qsPed2PbIB"
      },
      "outputs": [],
      "source": [
        "#@title TSNE Plot\n",
        "iterations_ = 750 #@param {type:\"slider\", min:250, max:2000, step:50}\n",
        "tsne = TSNE(init = \"pca\", n_iter = iterations_)\n",
        "X_embed_train_tsne = tsne.fit_transform(X_embed_train)\n",
        "\n",
        "sns.set(rc={\"figure.figsize\": (10, 10)})  \n",
        "palette = sns.color_palette(\"hls\", len(set(y_train)))   \n",
        "sc = sns.scatterplot(X_embed_train_tsne[:,0], X_embed_train_tsne[:,1], hue=y_train ,marker='.', legend=\"full\", s=100, palette=palette)\n",
        "plt.legend(bbox_to_anchor=(1.005, 1.0), loc=2, borderaxespad=0.0)  "
      ]
    },
    {
      "cell_type": "markdown",
      "source": [
        "## Clustering on Embeddings\n",
        "We will use two different regression models:\n",
        "1. [K-nearest-neighbors](https://scikit-learn.org/stable/modules/generated/sklearn.neighbors.KNeighborsRegressor.html)\n",
        "2. [Random Forest Regressor](https://scikit-learn.org/stable/modules/generated/sklearn.ensemble.RandomForestRegressor.html?highlight=randomforestregressor#sklearn.ensemble.RandomForestRegressor)\n",
        "\n",
        "We will be fitting these classifiers on the PCA-transformed embeddings, as they perform just as well as the raw embeddings while also being significantly faster. Don't believe it? Try swapping X-embed_train_pca for X_embed_train (and likewise for test)."
      ],
      "metadata": {
        "id": "5C91W3jhtTgg"
      }
    },
    {
      "cell_type": "code",
      "source": [
        "knn = KNeighborsClassifier(\n",
        "    n_neighbors = 10,\n",
        "    weights = \"uniform\",\n",
        "    algorithm = \"kd_tree\",\n",
        "    leaf_size = 15,\n",
        "    p = 1,\n",
        ")\n",
        "\n",
        "rfc = RandomForestClassifier(\n",
        "    n_estimators = 20,\n",
        "    criterion = \"gini\",\n",
        "    min_samples_split = 10,\n",
        "    min_samples_leaf = 4,\n",
        "    max_features = \"sqrt\"\n",
        ")"
      ],
      "metadata": {
        "id": "Id2HSbaEpx-c"
      },
      "execution_count": null,
      "outputs": []
    },
    {
      "cell_type": "code",
      "source": [
        "#@title Classification Reports: KNN\n",
        "knn.fit(X_embed_train_pca, y_train_numerical)\n",
        "pred_y = knn.predict(X_embed_test_pca)\n",
        "print(classification_report(y_true = actual, y_pred = pred_y, target_names = drug_index.keys()))"
      ],
      "metadata": {
        "cellView": "form",
        "id": "6qZPjnZQutXV"
      },
      "execution_count": null,
      "outputs": []
    },
    {
      "cell_type": "code",
      "source": [
        "#@title Classification Reports: RFC\n",
        "rfc.fit(X_embed_train_pca, y_train_numerical)\n",
        "pred_y = rfc.predict(X_embed_test_pca)\n",
        "print(classification_report(y_true = actual, y_pred = pred_y, target_names = drug_index.keys()))"
      ],
      "metadata": {
        "cellView": "form",
        "id": "u2v3Btv5u5Jv"
      },
      "execution_count": null,
      "outputs": []
    },
    {
      "cell_type": "markdown",
      "metadata": {
        "id": "Jl3U_hu-Sdxv"
      },
      "source": [
        "<a id='grid_search'></a>\n",
        "\n",
        "## Initialize / Run GridSearch\n",
        "\n",
        "(Skipped in demo for time reasons)\n",
        "\n",
        "Finding the right parameters for any classifiers is a challenge. To aid in finding them for KNN and K-Means from above, we ran [grid search](https://scikit-learn.org/stable/modules/generated/sklearn.model_selection.GridSearchCV.html). It works by generating multiple permutations of possible parameters, and testing them with cross-validation."
      ]
    },
    {
      "cell_type": "code",
      "execution_count": null,
      "metadata": {
        "id": "r0iX9R4OSdxw"
      },
      "outputs": [],
      "source": [
        "knn_grid = {\n",
        "    'n_neighbors': [5, 10],\n",
        "    'weights': ['uniform', 'distance'],\n",
        "    'algorithm': ['ball_tree', 'kd_tree', 'brute'],\n",
        "    'leaf_size' : [15, 30],\n",
        "    'p' : [1, 2],\n",
        "}\n",
        "\n",
        "# only added with the checkbox active above\n",
        "rfc_grid = {\n",
        "    'n_estimators' : [20],\n",
        "    'criterion' : ['gini', 'entropy'],\n",
        "    'max_features': ['sqrt', 'log2'],\n",
        "    'min_samples_split' : [5, 10],\n",
        "    'min_samples_leaf': [1, 4]\n",
        "}"
      ]
    },
    {
      "cell_type": "code",
      "execution_count": null,
      "metadata": {
        "id": "4gTUlEGFSdxw"
      },
      "outputs": [],
      "source": [
        "cls_list = [KNeighborsClassifier, RandomForestClassifier]\n",
        "param_grid_list = [knn_grid, rfc_grid]"
      ]
    },
    {
      "cell_type": "markdown",
      "metadata": {
        "id": "-QaR1b02Sdxx"
      },
      "source": [
        "### Run Grid Search "
      ]
    },
    {
      "cell_type": "code",
      "execution_count": null,
      "metadata": {
        "id": "iTSx7mj-RgQ9"
      },
      "outputs": [],
      "source": [
        "result_list = []\n",
        "grid_list = []"
      ]
    },
    {
      "cell_type": "code",
      "execution_count": null,
      "metadata": {
        "colab": {
          "base_uri": "https://localhost:8080/"
        },
        "id": "Edu0cD-pSdxx",
        "outputId": "95a31896-54c5-4d10-f6d8-ec09444bb390"
      },
      "outputs": [
        {
          "output_type": "stream",
          "name": "stdout",
          "text": [
            "<class 'sklearn.neighbors._classification.KNeighborsClassifier'>\n",
            "Fitting 5 folds for each of 48 candidates, totalling 240 fits\n",
            "<class 'sklearn.ensemble._forest.RandomForestClassifier'>\n",
            "Fitting 5 folds for each of 16 candidates, totalling 80 fits\n"
          ]
        }
      ],
      "source": [
        "for cls_name, param_grid in zip(cls_list, param_grid_list):\n",
        "    print(cls_name)\n",
        "    grid = GridSearchCV(\n",
        "        estimator = cls_name(), \n",
        "        param_grid = param_grid,\n",
        "        scoring = 'r2',\n",
        "        verbose = 1,\n",
        "        n_jobs = -1 # use all available cores\n",
        "    )\n",
        "    grid.fit(X_embed_train_pca, y_train_numerical)\n",
        "    result_list.append(pd.DataFrame.from_dict(grid.cv_results_))\n",
        "    grid_list.append(grid)"
      ]
    },
    {
      "cell_type": "markdown",
      "metadata": {
        "id": "Z2j6a7CJSdxy"
      },
      "source": [
        "<a id='browse'></a>\n",
        "## Browse the Sweep Results\n",
        "\n",
        "The following tables show the top 5 parameter settings, based on `mean_test_score`. Given our setup, this should really be thought of as `validation_score`."
      ]
    },
    {
      "cell_type": "markdown",
      "metadata": {
        "id": "Ol4l4bzUSdxy"
      },
      "source": [
        "K Nearest Neighbors: \n",
        "https://scikit-learn.org/stable/modules/generated/sklearn.neighbors.KNeighborsClassifier.html"
      ]
    },
    {
      "cell_type": "code",
      "execution_count": null,
      "metadata": {
        "id": "wgMQq4Z0Sdxy",
        "colab": {
          "base_uri": "https://localhost:8080/",
          "height": 548
        },
        "outputId": "35bc88cf-5de3-4959-b9eb-a99532ca9a95"
      },
      "outputs": [
        {
          "output_type": "execute_result",
          "data": {
            "text/plain": [
              "    mean_fit_time  std_fit_time  mean_score_time  std_score_time  \\\n",
              "12       0.007336      0.000154         0.166533        0.006463   \n",
              "20       0.013959      0.002751         0.212152        0.006830   \n",
              "36       0.001604      0.000094         0.223431        0.049854   \n",
              "4        0.009240      0.001838         0.180414        0.004543   \n",
              "28       0.013544      0.002711         0.239430        0.042414   \n",
              "\n",
              "   param_algorithm param_leaf_size param_n_neighbors param_p param_weights  \\\n",
              "12       ball_tree              30                10       1       uniform   \n",
              "20         kd_tree              15                10       1       uniform   \n",
              "36           brute              15                10       1       uniform   \n",
              "4        ball_tree              15                10       1       uniform   \n",
              "28         kd_tree              30                10       1       uniform   \n",
              "\n",
              "                                               params  split0_test_score  \\\n",
              "12  {'algorithm': 'ball_tree', 'leaf_size': 30, 'n...          -0.129543   \n",
              "20  {'algorithm': 'kd_tree', 'leaf_size': 15, 'n_n...          -0.129543   \n",
              "36  {'algorithm': 'brute', 'leaf_size': 15, 'n_nei...          -0.129543   \n",
              "4   {'algorithm': 'ball_tree', 'leaf_size': 15, 'n...          -0.129543   \n",
              "28  {'algorithm': 'kd_tree', 'leaf_size': 30, 'n_n...          -0.129543   \n",
              "\n",
              "    split1_test_score  split2_test_score  split3_test_score  \\\n",
              "12           -0.07142          -0.019877          -0.053704   \n",
              "20           -0.07142          -0.019877          -0.053704   \n",
              "36           -0.07142          -0.019877          -0.053704   \n",
              "4            -0.07142          -0.019877          -0.053704   \n",
              "28           -0.07142          -0.019877          -0.053704   \n",
              "\n",
              "    split4_test_score  mean_test_score  std_test_score  rank_test_score  \n",
              "12          -0.085688        -0.072047        0.036195                1  \n",
              "20          -0.085688        -0.072047        0.036195                1  \n",
              "36          -0.085688        -0.072047        0.036195                1  \n",
              "4           -0.085688        -0.072047        0.036195                1  \n",
              "28          -0.085688        -0.072047        0.036195                1  "
            ],
            "text/html": [
              "\n",
              "  <div id=\"df-9fe98560-6ddf-453d-92ed-0829f19361c2\">\n",
              "    <div class=\"colab-df-container\">\n",
              "      <div>\n",
              "<style scoped>\n",
              "    .dataframe tbody tr th:only-of-type {\n",
              "        vertical-align: middle;\n",
              "    }\n",
              "\n",
              "    .dataframe tbody tr th {\n",
              "        vertical-align: top;\n",
              "    }\n",
              "\n",
              "    .dataframe thead th {\n",
              "        text-align: right;\n",
              "    }\n",
              "</style>\n",
              "<table border=\"1\" class=\"dataframe\">\n",
              "  <thead>\n",
              "    <tr style=\"text-align: right;\">\n",
              "      <th></th>\n",
              "      <th>mean_fit_time</th>\n",
              "      <th>std_fit_time</th>\n",
              "      <th>mean_score_time</th>\n",
              "      <th>std_score_time</th>\n",
              "      <th>param_algorithm</th>\n",
              "      <th>param_leaf_size</th>\n",
              "      <th>param_n_neighbors</th>\n",
              "      <th>param_p</th>\n",
              "      <th>param_weights</th>\n",
              "      <th>params</th>\n",
              "      <th>split0_test_score</th>\n",
              "      <th>split1_test_score</th>\n",
              "      <th>split2_test_score</th>\n",
              "      <th>split3_test_score</th>\n",
              "      <th>split4_test_score</th>\n",
              "      <th>mean_test_score</th>\n",
              "      <th>std_test_score</th>\n",
              "      <th>rank_test_score</th>\n",
              "    </tr>\n",
              "  </thead>\n",
              "  <tbody>\n",
              "    <tr>\n",
              "      <th>12</th>\n",
              "      <td>0.007336</td>\n",
              "      <td>0.000154</td>\n",
              "      <td>0.166533</td>\n",
              "      <td>0.006463</td>\n",
              "      <td>ball_tree</td>\n",
              "      <td>30</td>\n",
              "      <td>10</td>\n",
              "      <td>1</td>\n",
              "      <td>uniform</td>\n",
              "      <td>{'algorithm': 'ball_tree', 'leaf_size': 30, 'n...</td>\n",
              "      <td>-0.129543</td>\n",
              "      <td>-0.07142</td>\n",
              "      <td>-0.019877</td>\n",
              "      <td>-0.053704</td>\n",
              "      <td>-0.085688</td>\n",
              "      <td>-0.072047</td>\n",
              "      <td>0.036195</td>\n",
              "      <td>1</td>\n",
              "    </tr>\n",
              "    <tr>\n",
              "      <th>20</th>\n",
              "      <td>0.013959</td>\n",
              "      <td>0.002751</td>\n",
              "      <td>0.212152</td>\n",
              "      <td>0.006830</td>\n",
              "      <td>kd_tree</td>\n",
              "      <td>15</td>\n",
              "      <td>10</td>\n",
              "      <td>1</td>\n",
              "      <td>uniform</td>\n",
              "      <td>{'algorithm': 'kd_tree', 'leaf_size': 15, 'n_n...</td>\n",
              "      <td>-0.129543</td>\n",
              "      <td>-0.07142</td>\n",
              "      <td>-0.019877</td>\n",
              "      <td>-0.053704</td>\n",
              "      <td>-0.085688</td>\n",
              "      <td>-0.072047</td>\n",
              "      <td>0.036195</td>\n",
              "      <td>1</td>\n",
              "    </tr>\n",
              "    <tr>\n",
              "      <th>36</th>\n",
              "      <td>0.001604</td>\n",
              "      <td>0.000094</td>\n",
              "      <td>0.223431</td>\n",
              "      <td>0.049854</td>\n",
              "      <td>brute</td>\n",
              "      <td>15</td>\n",
              "      <td>10</td>\n",
              "      <td>1</td>\n",
              "      <td>uniform</td>\n",
              "      <td>{'algorithm': 'brute', 'leaf_size': 15, 'n_nei...</td>\n",
              "      <td>-0.129543</td>\n",
              "      <td>-0.07142</td>\n",
              "      <td>-0.019877</td>\n",
              "      <td>-0.053704</td>\n",
              "      <td>-0.085688</td>\n",
              "      <td>-0.072047</td>\n",
              "      <td>0.036195</td>\n",
              "      <td>1</td>\n",
              "    </tr>\n",
              "    <tr>\n",
              "      <th>4</th>\n",
              "      <td>0.009240</td>\n",
              "      <td>0.001838</td>\n",
              "      <td>0.180414</td>\n",
              "      <td>0.004543</td>\n",
              "      <td>ball_tree</td>\n",
              "      <td>15</td>\n",
              "      <td>10</td>\n",
              "      <td>1</td>\n",
              "      <td>uniform</td>\n",
              "      <td>{'algorithm': 'ball_tree', 'leaf_size': 15, 'n...</td>\n",
              "      <td>-0.129543</td>\n",
              "      <td>-0.07142</td>\n",
              "      <td>-0.019877</td>\n",
              "      <td>-0.053704</td>\n",
              "      <td>-0.085688</td>\n",
              "      <td>-0.072047</td>\n",
              "      <td>0.036195</td>\n",
              "      <td>1</td>\n",
              "    </tr>\n",
              "    <tr>\n",
              "      <th>28</th>\n",
              "      <td>0.013544</td>\n",
              "      <td>0.002711</td>\n",
              "      <td>0.239430</td>\n",
              "      <td>0.042414</td>\n",
              "      <td>kd_tree</td>\n",
              "      <td>30</td>\n",
              "      <td>10</td>\n",
              "      <td>1</td>\n",
              "      <td>uniform</td>\n",
              "      <td>{'algorithm': 'kd_tree', 'leaf_size': 30, 'n_n...</td>\n",
              "      <td>-0.129543</td>\n",
              "      <td>-0.07142</td>\n",
              "      <td>-0.019877</td>\n",
              "      <td>-0.053704</td>\n",
              "      <td>-0.085688</td>\n",
              "      <td>-0.072047</td>\n",
              "      <td>0.036195</td>\n",
              "      <td>1</td>\n",
              "    </tr>\n",
              "  </tbody>\n",
              "</table>\n",
              "</div>\n",
              "      <button class=\"colab-df-convert\" onclick=\"convertToInteractive('df-9fe98560-6ddf-453d-92ed-0829f19361c2')\"\n",
              "              title=\"Convert this dataframe to an interactive table.\"\n",
              "              style=\"display:none;\">\n",
              "        \n",
              "  <svg xmlns=\"http://www.w3.org/2000/svg\" height=\"24px\"viewBox=\"0 0 24 24\"\n",
              "       width=\"24px\">\n",
              "    <path d=\"M0 0h24v24H0V0z\" fill=\"none\"/>\n",
              "    <path d=\"M18.56 5.44l.94 2.06.94-2.06 2.06-.94-2.06-.94-.94-2.06-.94 2.06-2.06.94zm-11 1L8.5 8.5l.94-2.06 2.06-.94-2.06-.94L8.5 2.5l-.94 2.06-2.06.94zm10 10l.94 2.06.94-2.06 2.06-.94-2.06-.94-.94-2.06-.94 2.06-2.06.94z\"/><path d=\"M17.41 7.96l-1.37-1.37c-.4-.4-.92-.59-1.43-.59-.52 0-1.04.2-1.43.59L10.3 9.45l-7.72 7.72c-.78.78-.78 2.05 0 2.83L4 21.41c.39.39.9.59 1.41.59.51 0 1.02-.2 1.41-.59l7.78-7.78 2.81-2.81c.8-.78.8-2.07 0-2.86zM5.41 20L4 18.59l7.72-7.72 1.47 1.35L5.41 20z\"/>\n",
              "  </svg>\n",
              "      </button>\n",
              "      \n",
              "  <style>\n",
              "    .colab-df-container {\n",
              "      display:flex;\n",
              "      flex-wrap:wrap;\n",
              "      gap: 12px;\n",
              "    }\n",
              "\n",
              "    .colab-df-convert {\n",
              "      background-color: #E8F0FE;\n",
              "      border: none;\n",
              "      border-radius: 50%;\n",
              "      cursor: pointer;\n",
              "      display: none;\n",
              "      fill: #1967D2;\n",
              "      height: 32px;\n",
              "      padding: 0 0 0 0;\n",
              "      width: 32px;\n",
              "    }\n",
              "\n",
              "    .colab-df-convert:hover {\n",
              "      background-color: #E2EBFA;\n",
              "      box-shadow: 0px 1px 2px rgba(60, 64, 67, 0.3), 0px 1px 3px 1px rgba(60, 64, 67, 0.15);\n",
              "      fill: #174EA6;\n",
              "    }\n",
              "\n",
              "    [theme=dark] .colab-df-convert {\n",
              "      background-color: #3B4455;\n",
              "      fill: #D2E3FC;\n",
              "    }\n",
              "\n",
              "    [theme=dark] .colab-df-convert:hover {\n",
              "      background-color: #434B5C;\n",
              "      box-shadow: 0px 1px 3px 1px rgba(0, 0, 0, 0.15);\n",
              "      filter: drop-shadow(0px 1px 2px rgba(0, 0, 0, 0.3));\n",
              "      fill: #FFFFFF;\n",
              "    }\n",
              "  </style>\n",
              "\n",
              "      <script>\n",
              "        const buttonEl =\n",
              "          document.querySelector('#df-9fe98560-6ddf-453d-92ed-0829f19361c2 button.colab-df-convert');\n",
              "        buttonEl.style.display =\n",
              "          google.colab.kernel.accessAllowed ? 'block' : 'none';\n",
              "\n",
              "        async function convertToInteractive(key) {\n",
              "          const element = document.querySelector('#df-9fe98560-6ddf-453d-92ed-0829f19361c2');\n",
              "          const dataTable =\n",
              "            await google.colab.kernel.invokeFunction('convertToInteractive',\n",
              "                                                     [key], {});\n",
              "          if (!dataTable) return;\n",
              "\n",
              "          const docLinkHtml = 'Like what you see? Visit the ' +\n",
              "            '<a target=\"_blank\" href=https://colab.research.google.com/notebooks/data_table.ipynb>data table notebook</a>'\n",
              "            + ' to learn more about interactive tables.';\n",
              "          element.innerHTML = '';\n",
              "          dataTable['output_type'] = 'display_data';\n",
              "          await google.colab.output.renderOutput(dataTable, element);\n",
              "          const docLink = document.createElement('div');\n",
              "          docLink.innerHTML = docLinkHtml;\n",
              "          element.appendChild(docLink);\n",
              "        }\n",
              "      </script>\n",
              "    </div>\n",
              "  </div>\n",
              "  "
            ]
          },
          "metadata": {},
          "execution_count": 32
        }
      ],
      "source": [
        "result_list[0].sort_values('rank_test_score')[:5]"
      ]
    },
    {
      "cell_type": "markdown",
      "metadata": {
        "id": "yF-EGVioSdxz"
      },
      "source": [
        "### Random Forest"
      ]
    },
    {
      "cell_type": "code",
      "execution_count": null,
      "metadata": {
        "id": "nESBVExnSdxz",
        "colab": {
          "base_uri": "https://localhost:8080/",
          "height": 548
        },
        "outputId": "9f071ba1-c21d-4101-8158-40fc2943b44a"
      },
      "outputs": [
        {
          "output_type": "execute_result",
          "data": {
            "text/plain": [
              "    mean_fit_time  std_fit_time  mean_score_time  std_score_time  \\\n",
              "12       0.007438      0.000137         0.166322        0.006498   \n",
              "20       0.011582      0.000237         0.216946        0.009255   \n",
              "36       0.001517      0.000052         0.132545        0.004368   \n",
              "4        0.008258      0.000186         0.164024        0.003186   \n",
              "28       0.013625      0.004405         0.180024        0.006990   \n",
              "\n",
              "   param_algorithm param_leaf_size param_n_neighbors param_p param_weights  \\\n",
              "12       ball_tree              30                10       1       uniform   \n",
              "20         kd_tree              15                10       1       uniform   \n",
              "36           brute              15                10       1       uniform   \n",
              "4        ball_tree              15                10       1       uniform   \n",
              "28         kd_tree              30                10       1       uniform   \n",
              "\n",
              "                                               params  split0_test_score  \\\n",
              "12  {'algorithm': 'ball_tree', 'leaf_size': 30, 'n...          -0.129543   \n",
              "20  {'algorithm': 'kd_tree', 'leaf_size': 15, 'n_n...          -0.129543   \n",
              "36  {'algorithm': 'brute', 'leaf_size': 15, 'n_nei...          -0.129543   \n",
              "4   {'algorithm': 'ball_tree', 'leaf_size': 15, 'n...          -0.129543   \n",
              "28  {'algorithm': 'kd_tree', 'leaf_size': 30, 'n_n...          -0.129543   \n",
              "\n",
              "    split1_test_score  split2_test_score  split3_test_score  \\\n",
              "12           -0.07142          -0.019877          -0.053704   \n",
              "20           -0.07142          -0.019877          -0.053704   \n",
              "36           -0.07142          -0.019877          -0.053704   \n",
              "4            -0.07142          -0.019877          -0.053704   \n",
              "28           -0.07142          -0.019877          -0.053704   \n",
              "\n",
              "    split4_test_score  mean_test_score  std_test_score  rank_test_score  \n",
              "12          -0.085688        -0.072047        0.036195                1  \n",
              "20          -0.085688        -0.072047        0.036195                1  \n",
              "36          -0.085688        -0.072047        0.036195                1  \n",
              "4           -0.085688        -0.072047        0.036195                1  \n",
              "28          -0.085688        -0.072047        0.036195                1  "
            ],
            "text/html": [
              "\n",
              "  <div id=\"df-160e47ca-241c-4f59-88b9-9252baa06420\">\n",
              "    <div class=\"colab-df-container\">\n",
              "      <div>\n",
              "<style scoped>\n",
              "    .dataframe tbody tr th:only-of-type {\n",
              "        vertical-align: middle;\n",
              "    }\n",
              "\n",
              "    .dataframe tbody tr th {\n",
              "        vertical-align: top;\n",
              "    }\n",
              "\n",
              "    .dataframe thead th {\n",
              "        text-align: right;\n",
              "    }\n",
              "</style>\n",
              "<table border=\"1\" class=\"dataframe\">\n",
              "  <thead>\n",
              "    <tr style=\"text-align: right;\">\n",
              "      <th></th>\n",
              "      <th>mean_fit_time</th>\n",
              "      <th>std_fit_time</th>\n",
              "      <th>mean_score_time</th>\n",
              "      <th>std_score_time</th>\n",
              "      <th>param_algorithm</th>\n",
              "      <th>param_leaf_size</th>\n",
              "      <th>param_n_neighbors</th>\n",
              "      <th>param_p</th>\n",
              "      <th>param_weights</th>\n",
              "      <th>params</th>\n",
              "      <th>split0_test_score</th>\n",
              "      <th>split1_test_score</th>\n",
              "      <th>split2_test_score</th>\n",
              "      <th>split3_test_score</th>\n",
              "      <th>split4_test_score</th>\n",
              "      <th>mean_test_score</th>\n",
              "      <th>std_test_score</th>\n",
              "      <th>rank_test_score</th>\n",
              "    </tr>\n",
              "  </thead>\n",
              "  <tbody>\n",
              "    <tr>\n",
              "      <th>12</th>\n",
              "      <td>0.007438</td>\n",
              "      <td>0.000137</td>\n",
              "      <td>0.166322</td>\n",
              "      <td>0.006498</td>\n",
              "      <td>ball_tree</td>\n",
              "      <td>30</td>\n",
              "      <td>10</td>\n",
              "      <td>1</td>\n",
              "      <td>uniform</td>\n",
              "      <td>{'algorithm': 'ball_tree', 'leaf_size': 30, 'n...</td>\n",
              "      <td>-0.129543</td>\n",
              "      <td>-0.07142</td>\n",
              "      <td>-0.019877</td>\n",
              "      <td>-0.053704</td>\n",
              "      <td>-0.085688</td>\n",
              "      <td>-0.072047</td>\n",
              "      <td>0.036195</td>\n",
              "      <td>1</td>\n",
              "    </tr>\n",
              "    <tr>\n",
              "      <th>20</th>\n",
              "      <td>0.011582</td>\n",
              "      <td>0.000237</td>\n",
              "      <td>0.216946</td>\n",
              "      <td>0.009255</td>\n",
              "      <td>kd_tree</td>\n",
              "      <td>15</td>\n",
              "      <td>10</td>\n",
              "      <td>1</td>\n",
              "      <td>uniform</td>\n",
              "      <td>{'algorithm': 'kd_tree', 'leaf_size': 15, 'n_n...</td>\n",
              "      <td>-0.129543</td>\n",
              "      <td>-0.07142</td>\n",
              "      <td>-0.019877</td>\n",
              "      <td>-0.053704</td>\n",
              "      <td>-0.085688</td>\n",
              "      <td>-0.072047</td>\n",
              "      <td>0.036195</td>\n",
              "      <td>1</td>\n",
              "    </tr>\n",
              "    <tr>\n",
              "      <th>36</th>\n",
              "      <td>0.001517</td>\n",
              "      <td>0.000052</td>\n",
              "      <td>0.132545</td>\n",
              "      <td>0.004368</td>\n",
              "      <td>brute</td>\n",
              "      <td>15</td>\n",
              "      <td>10</td>\n",
              "      <td>1</td>\n",
              "      <td>uniform</td>\n",
              "      <td>{'algorithm': 'brute', 'leaf_size': 15, 'n_nei...</td>\n",
              "      <td>-0.129543</td>\n",
              "      <td>-0.07142</td>\n",
              "      <td>-0.019877</td>\n",
              "      <td>-0.053704</td>\n",
              "      <td>-0.085688</td>\n",
              "      <td>-0.072047</td>\n",
              "      <td>0.036195</td>\n",
              "      <td>1</td>\n",
              "    </tr>\n",
              "    <tr>\n",
              "      <th>4</th>\n",
              "      <td>0.008258</td>\n",
              "      <td>0.000186</td>\n",
              "      <td>0.164024</td>\n",
              "      <td>0.003186</td>\n",
              "      <td>ball_tree</td>\n",
              "      <td>15</td>\n",
              "      <td>10</td>\n",
              "      <td>1</td>\n",
              "      <td>uniform</td>\n",
              "      <td>{'algorithm': 'ball_tree', 'leaf_size': 15, 'n...</td>\n",
              "      <td>-0.129543</td>\n",
              "      <td>-0.07142</td>\n",
              "      <td>-0.019877</td>\n",
              "      <td>-0.053704</td>\n",
              "      <td>-0.085688</td>\n",
              "      <td>-0.072047</td>\n",
              "      <td>0.036195</td>\n",
              "      <td>1</td>\n",
              "    </tr>\n",
              "    <tr>\n",
              "      <th>28</th>\n",
              "      <td>0.013625</td>\n",
              "      <td>0.004405</td>\n",
              "      <td>0.180024</td>\n",
              "      <td>0.006990</td>\n",
              "      <td>kd_tree</td>\n",
              "      <td>30</td>\n",
              "      <td>10</td>\n",
              "      <td>1</td>\n",
              "      <td>uniform</td>\n",
              "      <td>{'algorithm': 'kd_tree', 'leaf_size': 30, 'n_n...</td>\n",
              "      <td>-0.129543</td>\n",
              "      <td>-0.07142</td>\n",
              "      <td>-0.019877</td>\n",
              "      <td>-0.053704</td>\n",
              "      <td>-0.085688</td>\n",
              "      <td>-0.072047</td>\n",
              "      <td>0.036195</td>\n",
              "      <td>1</td>\n",
              "    </tr>\n",
              "  </tbody>\n",
              "</table>\n",
              "</div>\n",
              "      <button class=\"colab-df-convert\" onclick=\"convertToInteractive('df-160e47ca-241c-4f59-88b9-9252baa06420')\"\n",
              "              title=\"Convert this dataframe to an interactive table.\"\n",
              "              style=\"display:none;\">\n",
              "        \n",
              "  <svg xmlns=\"http://www.w3.org/2000/svg\" height=\"24px\"viewBox=\"0 0 24 24\"\n",
              "       width=\"24px\">\n",
              "    <path d=\"M0 0h24v24H0V0z\" fill=\"none\"/>\n",
              "    <path d=\"M18.56 5.44l.94 2.06.94-2.06 2.06-.94-2.06-.94-.94-2.06-.94 2.06-2.06.94zm-11 1L8.5 8.5l.94-2.06 2.06-.94-2.06-.94L8.5 2.5l-.94 2.06-2.06.94zm10 10l.94 2.06.94-2.06 2.06-.94-2.06-.94-.94-2.06-.94 2.06-2.06.94z\"/><path d=\"M17.41 7.96l-1.37-1.37c-.4-.4-.92-.59-1.43-.59-.52 0-1.04.2-1.43.59L10.3 9.45l-7.72 7.72c-.78.78-.78 2.05 0 2.83L4 21.41c.39.39.9.59 1.41.59.51 0 1.02-.2 1.41-.59l7.78-7.78 2.81-2.81c.8-.78.8-2.07 0-2.86zM5.41 20L4 18.59l7.72-7.72 1.47 1.35L5.41 20z\"/>\n",
              "  </svg>\n",
              "      </button>\n",
              "      \n",
              "  <style>\n",
              "    .colab-df-container {\n",
              "      display:flex;\n",
              "      flex-wrap:wrap;\n",
              "      gap: 12px;\n",
              "    }\n",
              "\n",
              "    .colab-df-convert {\n",
              "      background-color: #E8F0FE;\n",
              "      border: none;\n",
              "      border-radius: 50%;\n",
              "      cursor: pointer;\n",
              "      display: none;\n",
              "      fill: #1967D2;\n",
              "      height: 32px;\n",
              "      padding: 0 0 0 0;\n",
              "      width: 32px;\n",
              "    }\n",
              "\n",
              "    .colab-df-convert:hover {\n",
              "      background-color: #E2EBFA;\n",
              "      box-shadow: 0px 1px 2px rgba(60, 64, 67, 0.3), 0px 1px 3px 1px rgba(60, 64, 67, 0.15);\n",
              "      fill: #174EA6;\n",
              "    }\n",
              "\n",
              "    [theme=dark] .colab-df-convert {\n",
              "      background-color: #3B4455;\n",
              "      fill: #D2E3FC;\n",
              "    }\n",
              "\n",
              "    [theme=dark] .colab-df-convert:hover {\n",
              "      background-color: #434B5C;\n",
              "      box-shadow: 0px 1px 3px 1px rgba(0, 0, 0, 0.15);\n",
              "      filter: drop-shadow(0px 1px 2px rgba(0, 0, 0, 0.3));\n",
              "      fill: #FFFFFF;\n",
              "    }\n",
              "  </style>\n",
              "\n",
              "      <script>\n",
              "        const buttonEl =\n",
              "          document.querySelector('#df-160e47ca-241c-4f59-88b9-9252baa06420 button.colab-df-convert');\n",
              "        buttonEl.style.display =\n",
              "          google.colab.kernel.accessAllowed ? 'block' : 'none';\n",
              "\n",
              "        async function convertToInteractive(key) {\n",
              "          const element = document.querySelector('#df-160e47ca-241c-4f59-88b9-9252baa06420');\n",
              "          const dataTable =\n",
              "            await google.colab.kernel.invokeFunction('convertToInteractive',\n",
              "                                                     [key], {});\n",
              "          if (!dataTable) return;\n",
              "\n",
              "          const docLinkHtml = 'Like what you see? Visit the ' +\n",
              "            '<a target=\"_blank\" href=https://colab.research.google.com/notebooks/data_table.ipynb>data table notebook</a>'\n",
              "            + ' to learn more about interactive tables.';\n",
              "          element.innerHTML = '';\n",
              "          dataTable['output_type'] = 'display_data';\n",
              "          await google.colab.output.renderOutput(dataTable, element);\n",
              "          const docLink = document.createElement('div');\n",
              "          docLink.innerHTML = docLinkHtml;\n",
              "          element.appendChild(docLink);\n",
              "        }\n",
              "      </script>\n",
              "    </div>\n",
              "  </div>\n",
              "  "
            ]
          },
          "metadata": {},
          "execution_count": 33
        }
      ],
      "source": [
        "# Here is how to see the results of the random forest if it was run before\n",
        "# (requires you to have had RFC on)\n",
        "result_list[1].sort_values('rank_test_score')[:5]"
      ]
    }
  ],
  "metadata": {
    "colab": {
      "collapsed_sections": [],
      "name": "Protein DL Demo",
      "provenance": []
    },
    "gpuClass": "standard",
    "kernelspec": {
      "display_name": "Python 3",
      "language": "python",
      "name": "python3"
    },
    "language_info": {
      "codemirror_mode": {
        "name": "ipython",
        "version": 3
      },
      "file_extension": ".py",
      "mimetype": "text/x-python",
      "name": "python",
      "nbconvert_exporter": "python",
      "pygments_lexer": "ipython3",
      "version": "3.8.3"
    },
    "accelerator": "GPU"
  },
  "nbformat": 4,
  "nbformat_minor": 0
}